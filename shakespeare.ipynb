{
 "cells": [
  {
   "cell_type": "code",
   "execution_count": 1,
   "metadata": {},
   "outputs": [],
   "source": [
    "from array import array\n",
    "\n",
    "import tensorflow as tf\n",
    "from tensorflow.keras.layers.experimental import preprocessing\n",
    "\n",
    "import numpy as np\n",
    "import os\n",
    "import time"
   ]
  },
  {
   "cell_type": "code",
   "execution_count": 2,
   "metadata": {},
   "outputs": [
    {
     "data": {
      "text/plain": [
       "'utf-8'"
      ]
     },
     "execution_count": 2,
     "metadata": {},
     "output_type": "execute_result"
    }
   ],
   "source": [
    "import sys\n",
    "sys.getdefaultencoding()"
   ]
  },
  {
   "cell_type": "code",
   "execution_count": 3,
   "metadata": {},
   "outputs": [],
   "source": [
    "''' Download Shakespeare Dataset'''\n",
    "''' can change to run code on own data '''\n",
    "# path_to_file = tf.keras.utils.get_file('shakespeare.txt', 'https://storage.googleapis.com/download.tensorflow.org/data/shakespeare.txt')\n",
    "path_to_file = 'input.txt'"
   ]
  },
  {
   "cell_type": "code",
   "execution_count": 4,
   "metadata": {},
   "outputs": [
    {
     "name": "stdout",
     "output_type": "stream",
     "text": [
      "Length of text: 153 characters\n"
     ]
    }
   ],
   "source": [
    "''' Read the Data'''\n",
    "# Read, then decode for py2 compat.\n",
    "text = open(path_to_file, 'rb').read().decode(encoding='utf-8')\n",
    "# length of text is the number of characters in it\n",
    "print('Length of text: {} characters'.format(len(text)))"
   ]
  },
  {
   "cell_type": "code",
   "execution_count": 5,
   "metadata": {},
   "outputs": [
    {
     "name": "stdout",
     "output_type": "stream",
     "text": [
      "Happ\n",
      "Happy Ne\n",
      "Happy New Yea\n",
      "That’s one small ste\n",
      "That’s one sm\n",
      "That’\n",
      "Th\n",
      "one giant leap for mankin\n",
      "one giant leap fo\n",
      "one giant lea\n",
      "one giant l\n",
      "one gia\n",
      "on\n",
      "\n"
     ]
    }
   ],
   "source": [
    "# Take a look at the first 250 characters in text\n",
    "print(text[:250])"
   ]
  },
  {
   "cell_type": "code",
   "execution_count": 103,
   "metadata": {},
   "outputs": [
    {
     "name": "stdout",
     "output_type": "stream",
     "text": [
      "22 unique characters\n"
     ]
    }
   ],
   "source": [
    "# The unique characters in the file\n",
    "vocab = sorted(set(text))\n",
    "vocab.remove('\\n')\n",
    "vocab.remove(' ')\n",
    "print('{} unique characters'.format(len(vocab)))"
   ]
  },
  {
   "cell_type": "code",
   "execution_count": 104,
   "metadata": {},
   "outputs": [
    {
     "data": {
      "text/plain": [
       "<tf.RaggedTensor [[b'a', b'b', b'c', b'd', b'e', b'f', b'g'], [b'x', b'y', b'z']]>"
      ]
     },
     "execution_count": 104,
     "metadata": {},
     "output_type": "execute_result"
    }
   ],
   "source": [
    "''' Process the Text\n",
    "    Before training, you need to convert the strings to a numerical representation.\n",
    "\n",
    "    The preprocessing.StringLookup layer can convert each character into a numeric ID. \n",
    "    It just needs the text to be split into tokens first.'''\n",
    "example_texts = ['abcdefg', 'xyz']\n",
    "\n",
    "chars = tf.strings.unicode_split(example_texts, input_encoding='UTF-8')\n",
    "chars"
   ]
  },
  {
   "cell_type": "code",
   "execution_count": 105,
   "metadata": {},
   "outputs": [],
   "source": [
    "ids_from_chars = preprocessing.StringLookup(\n",
    "    vocabulary=list(vocab))"
   ]
  },
  {
   "cell_type": "code",
   "execution_count": 106,
   "metadata": {},
   "outputs": [
    {
     "data": {
      "text/plain": [
       "<tf.RaggedTensor [[6, 1, 1, 1, 7, 8, 9], [1, 22, 1]]>"
      ]
     },
     "execution_count": 106,
     "metadata": {},
     "output_type": "execute_result"
    }
   ],
   "source": [
    "ids = ids_from_chars(chars)\n",
    "ids"
   ]
  },
  {
   "cell_type": "code",
   "execution_count": 107,
   "metadata": {},
   "outputs": [],
   "source": [
    "chars_from_ids = tf.keras.layers.experimental.preprocessing.StringLookup(\n",
    "    vocabulary=ids_from_chars.get_vocabulary(), invert=True)"
   ]
  },
  {
   "cell_type": "code",
   "execution_count": 108,
   "metadata": {},
   "outputs": [
    {
     "data": {
      "text/plain": [
       "<tf.RaggedTensor [[b'a', b'[UNK]', b'[UNK]', b'[UNK]', b'e', b'f', b'g'], [b'[UNK]', b'y', b'[UNK]']]>"
      ]
     },
     "execution_count": 108,
     "metadata": {},
     "output_type": "execute_result"
    }
   ],
   "source": [
    "chars = chars_from_ids(ids)\n",
    "chars"
   ]
  },
  {
   "cell_type": "code",
   "execution_count": 109,
   "metadata": {},
   "outputs": [],
   "source": [
    "tf.strings.reduce_join(chars, axis=-1).numpy()\n",
    "\n",
    "\n",
    "def text_from_ids(ids):\n",
    "  return tf.strings.reduce_join(chars_from_ids(ids), axis=-1)"
   ]
  },
  {
   "cell_type": "code",
   "execution_count": 110,
   "metadata": {},
   "outputs": [],
   "source": [
    "'''Create Training Examples and Targets'''\n",
    "\n",
    "''' convert text vector into a stream of character indices '''\n",
    "all_ids = ids_from_chars(tf.strings.unicode_split(text, 'UTF-8'))"
   ]
  },
  {
   "cell_type": "code",
   "execution_count": 111,
   "metadata": {},
   "outputs": [
    {
     "name": "stdout",
     "output_type": "stream",
     "text": [
      "H\n",
      "a\n",
      "p\n",
      "p\n",
      "[UNK]\n",
      "H\n",
      "a\n",
      "p\n",
      "p\n",
      "y\n"
     ]
    }
   ],
   "source": [
    "ids_dataset = tf.data.Dataset.from_tensor_slices(all_ids)\n",
    "for ids in ids_dataset.take(10):\n",
    "    print(chars_from_ids(ids).numpy().decode('utf-8'))"
   ]
  },
  {
   "cell_type": "code",
   "execution_count": 112,
   "metadata": {},
   "outputs": [],
   "source": [
    "seq_length = 100\n",
    "examples_per_epoch = len(text)//(seq_length+1)"
   ]
  },
  {
   "cell_type": "code",
   "execution_count": 113,
   "metadata": {},
   "outputs": [
    {
     "name": "stdout",
     "output_type": "stream",
     "text": [
      "tf.Tensor(\n",
      "[b'H' b'a' b'p' b'p' b'[UNK]' b'H' b'a' b'p' b'p' b'y' b'[UNK]' b'N' b'e'\n",
      " b'[UNK]' b'H' b'a' b'p' b'p' b'y' b'[UNK]' b'N' b'e' b'w' b'[UNK]' b'Y'\n",
      " b'e' b'a' b'[UNK]' b'T' b'h' b'a' b't' b'\\xe2\\x80\\x99' b's' b'[UNK]' b'o'\n",
      " b'n' b'e' b'[UNK]' b's' b'm' b'a' b'l' b'l' b'[UNK]' b's' b't' b'e'\n",
      " b'[UNK]' b'T' b'h' b'a' b't' b'\\xe2\\x80\\x99' b's' b'[UNK]' b'o' b'n' b'e'\n",
      " b'[UNK]' b's' b'm' b'[UNK]' b'T' b'h' b'a' b't' b'\\xe2\\x80\\x99' b'[UNK]'\n",
      " b'T' b'h' b'[UNK]' b'o' b'n' b'e' b'[UNK]' b'g' b'i' b'a' b'n' b't'\n",
      " b'[UNK]' b'l' b'e' b'a' b'p' b'[UNK]' b'f' b'o' b'r' b'[UNK]' b'm' b'a'\n",
      " b'n' b'k' b'i' b'n' b'[UNK]' b'o' b'n' b'e'], shape=(101,), dtype=string)\n"
     ]
    }
   ],
   "source": [
    "sequences = ids_dataset.batch(seq_length+1, drop_remainder=True)\n",
    "\n",
    "for seq in sequences.take(1):\n",
    "  print(chars_from_ids(seq))"
   ]
  },
  {
   "cell_type": "code",
   "execution_count": 114,
   "metadata": {},
   "outputs": [
    {
     "name": "stdout",
     "output_type": "stream",
     "text": [
      "b'Happ[UNK]Happy[UNK]Ne[UNK]Happy[UNK]New[UNK]Yea[UNK]That\\xe2\\x80\\x99s[UNK]one[UNK]small[UNK]ste[UNK]That\\xe2\\x80\\x99s[UNK]one[UNK]sm[UNK]That\\xe2\\x80\\x99[UNK]Th[UNK]one[UNK]giant[UNK]leap[UNK]for[UNK]mankin[UNK]one'\n"
     ]
    }
   ],
   "source": [
    "for seq in sequences.take(5):\n",
    "  print(text_from_ids(seq).numpy())"
   ]
  },
  {
   "cell_type": "code",
   "execution_count": 115,
   "metadata": {},
   "outputs": [],
   "source": [
    "def split_input_target(sequence):\n",
    "    input_text = sequence[:-1]\n",
    "    target_text = sequence[1:]\n",
    "    return input_text, target_text"
   ]
  },
  {
   "cell_type": "code",
   "execution_count": 116,
   "metadata": {},
   "outputs": [
    {
     "data": {
      "text/plain": [
       "(['T', 'e', 'n', 's', 'o', 'r', 'f', 'l', 'o'],\n",
       " ['e', 'n', 's', 'o', 'r', 'f', 'l', 'o', 'w'])"
      ]
     },
     "execution_count": 116,
     "metadata": {},
     "output_type": "execute_result"
    }
   ],
   "source": [
    "split_input_target(list(\"Tensorflow\"))"
   ]
  },
  {
   "cell_type": "code",
   "execution_count": 117,
   "metadata": {},
   "outputs": [
    {
     "name": "stdout",
     "output_type": "stream",
     "text": [
      "Input : b'Happ[UNK]Happy[UNK]Ne[UNK]Happy[UNK]New[UNK]Yea[UNK]That\\xe2\\x80\\x99s[UNK]one[UNK]small[UNK]ste[UNK]That\\xe2\\x80\\x99s[UNK]one[UNK]sm[UNK]That\\xe2\\x80\\x99[UNK]Th[UNK]one[UNK]giant[UNK]leap[UNK]for[UNK]mankin[UNK]on'\n",
      "Target: b'app[UNK]Happy[UNK]Ne[UNK]Happy[UNK]New[UNK]Yea[UNK]That\\xe2\\x80\\x99s[UNK]one[UNK]small[UNK]ste[UNK]That\\xe2\\x80\\x99s[UNK]one[UNK]sm[UNK]That\\xe2\\x80\\x99[UNK]Th[UNK]one[UNK]giant[UNK]leap[UNK]for[UNK]mankin[UNK]one'\n"
     ]
    }
   ],
   "source": [
    "dataset = sequences.map(split_input_target)\n",
    "\n",
    "for input_example, target_example in dataset.take(1):\n",
    "    print(\"Input :\", text_from_ids(input_example).numpy())\n",
    "    print(\"Target:\", text_from_ids(target_example).numpy())"
   ]
  },
  {
   "cell_type": "code",
   "execution_count": 118,
   "metadata": {},
   "outputs": [
    {
     "name": "stdout",
     "output_type": "stream",
     "text": [
      "[(<tf.Tensor: shape=(1, 100), dtype=int64, numpy=\n",
      "array([[ 2,  6, 17, 17,  1,  2,  6, 17, 17, 22,  1,  3,  7,  1,  2,  6,\n",
      "        17, 17, 22,  1,  3,  7, 21,  1,  5,  7,  6,  1,  4, 10,  6, 20,\n",
      "        23, 19,  1, 16, 15,  7,  1, 19, 14,  6, 13, 13,  1, 19, 20,  7,\n",
      "         1,  4, 10,  6, 20, 23, 19,  1, 16, 15,  7,  1, 19, 14,  1,  4,\n",
      "        10,  6, 20, 23,  1,  4, 10,  1, 16, 15,  7,  1,  9, 11,  6, 15,\n",
      "        20,  1, 13,  7,  6, 17,  1,  8, 16, 18,  1, 14,  6, 15, 12, 11,\n",
      "        15,  1, 16, 15]])>, <tf.Tensor: shape=(1, 100), dtype=int64, numpy=\n",
      "array([[ 6, 17, 17,  1,  2,  6, 17, 17, 22,  1,  3,  7,  1,  2,  6, 17,\n",
      "        17, 22,  1,  3,  7, 21,  1,  5,  7,  6,  1,  4, 10,  6, 20, 23,\n",
      "        19,  1, 16, 15,  7,  1, 19, 14,  6, 13, 13,  1, 19, 20,  7,  1,\n",
      "         4, 10,  6, 20, 23, 19,  1, 16, 15,  7,  1, 19, 14,  1,  4, 10,\n",
      "         6, 20, 23,  1,  4, 10,  1, 16, 15,  7,  1,  9, 11,  6, 15, 20,\n",
      "         1, 13,  7,  6, 17,  1,  8, 16, 18,  1, 14,  6, 15, 12, 11, 15,\n",
      "         1, 16, 15,  7]])>)]\n",
      "tf.Tensor(1, shape=(), dtype=int64)\n"
     ]
    }
   ],
   "source": [
    "# Batch size\n",
    "BATCH_SIZE = 64\n",
    "\n",
    "# Buffer size to shuffle the dataset\n",
    "# (TF data is designed to work with possibly infinite sequences,\n",
    "# so it doesn't attempt to shuffle the entire sequence in memory. Instead,\n",
    "# it maintains a buffer in which it shuffles elements).\n",
    "BUFFER_SIZE = 10000\n",
    "\n",
    "dataset = (\n",
    "    dataset\n",
    "    .shuffle(BUFFER_SIZE)\n",
    "    .batch(BATCH_SIZE, drop_remainder=False)\n",
    "    .prefetch(tf.data.experimental.AUTOTUNE))\n",
    "\n",
    "dataset\n",
    "print(list(dataset))\n",
    "print(tf.data.experimental.cardinality(dataset))"
   ]
  },
  {
   "cell_type": "code",
   "execution_count": 119,
   "metadata": {},
   "outputs": [],
   "source": [
    "# Length of the vocabulary in chars\n",
    "vocab_size = len(vocab)\n",
    "\n",
    "# The embedding dimension\n",
    "embedding_dim = 256\n",
    "\n",
    "# Number of RNN units\n",
    "rnn_units = 1024"
   ]
  },
  {
   "cell_type": "code",
   "execution_count": 120,
   "metadata": {},
   "outputs": [],
   "source": [
    "class MyModel(tf.keras.Model):\n",
    "  def __init__(self, vocab_size, embedding_dim, rnn_units):\n",
    "    super().__init__(self)\n",
    "    self.embedding = tf.keras.layers.Embedding(vocab_size, embedding_dim)\n",
    "    self.gru = tf.keras.layers.GRU(rnn_units,\n",
    "                                   return_sequences=True, \n",
    "                                   return_state=True)\n",
    "    self.dense = tf.keras.layers.Dense(vocab_size)\n",
    "\n",
    "  def call(self, inputs, states=None, return_state=False, training=False):\n",
    "    x = inputs\n",
    "    x = self.embedding(x, training=training)\n",
    "    if states is None:\n",
    "      states = self.gru.get_initial_state(x)\n",
    "    x, states = self.gru(x, initial_state=states, training=training)\n",
    "    x = self.dense(x, training=training)\n",
    "\n",
    "    if return_state:\n",
    "      return x, states\n",
    "    else: \n",
    "      return x"
   ]
  },
  {
   "cell_type": "code",
   "execution_count": 121,
   "metadata": {},
   "outputs": [],
   "source": [
    "model = MyModel(\n",
    "    # Be sure the vocabulary size matches the `StringLookup` layers.\n",
    "    vocab_size=len(ids_from_chars.get_vocabulary()),\n",
    "    embedding_dim=embedding_dim,\n",
    "    rnn_units=rnn_units)"
   ]
  },
  {
   "cell_type": "code",
   "execution_count": 122,
   "metadata": {},
   "outputs": [
    {
     "name": "stdout",
     "output_type": "stream",
     "text": [
      "tf.Tensor(1, shape=(), dtype=int64)\n",
      "(1, 100, 24) # (batch_size, sequence_length, vocab_size)\n"
     ]
    }
   ],
   "source": [
    "# print(dataset.take(1))\n",
    "print(tf.data.experimental.cardinality(dataset.take(1)))\n",
    "for input_example_batch, target_example_batch in dataset.take(1):\n",
    "#     print('here')\n",
    "    example_batch_predictions = model(input_example_batch)\n",
    "    print(example_batch_predictions.shape, \"# (batch_size, sequence_length, vocab_size)\")"
   ]
  },
  {
   "cell_type": "code",
   "execution_count": 123,
   "metadata": {},
   "outputs": [
    {
     "name": "stdout",
     "output_type": "stream",
     "text": [
      "Model: \"my_model_3\"\n",
      "_________________________________________________________________\n",
      "Layer (type)                 Output Shape              Param #   \n",
      "=================================================================\n",
      "embedding_3 (Embedding)      multiple                  6144      \n",
      "_________________________________________________________________\n",
      "gru_3 (GRU)                  multiple                  3938304   \n",
      "_________________________________________________________________\n",
      "dense_3 (Dense)              multiple                  24600     \n",
      "=================================================================\n",
      "Total params: 3,969,048\n",
      "Trainable params: 3,969,048\n",
      "Non-trainable params: 0\n",
      "_________________________________________________________________\n"
     ]
    }
   ],
   "source": [
    "model.summary()"
   ]
  },
  {
   "cell_type": "code",
   "execution_count": 124,
   "metadata": {},
   "outputs": [],
   "source": [
    "sampled_indices = tf.random.categorical(example_batch_predictions[0], num_samples=1)\n",
    "sampled_indices = tf.squeeze(sampled_indices,axis=-1).numpy()"
   ]
  },
  {
   "cell_type": "code",
   "execution_count": 125,
   "metadata": {},
   "outputs": [
    {
     "data": {
      "text/plain": [
       "array([ 3,  7,  1,  7, 16, 15,  4, 18, 11, 10, 21, 16,  6, 10,  6,  9, 11,\n",
       "       15,  7, 12, 23, 13, 13,  1, 18, 14, 22,  1,  1, 20, 11, 21, 18, 12,\n",
       "        5, 23,  3,  7, 18,  8,  2,  0,  4, 21,  2, 18,  2, 19,  3,  7, 22,\n",
       "       11, 16, 17, 16, 23, 14,  9,  5,  8, 18, 13,  4, 20,  4, 13, 18, 15,\n",
       "        5, 19, 20, 23, 16,  3,  2, 21,  7, 21, 15, 18, 23, 13, 23, 15, 18,\n",
       "        7,  4,  8, 13, 13, 16,  1,  3,  8, 17, 15, 10, 21,  8, 17])"
      ]
     },
     "execution_count": 125,
     "metadata": {},
     "output_type": "execute_result"
    }
   ],
   "source": [
    "sampled_indices"
   ]
  },
  {
   "cell_type": "code",
   "execution_count": 126,
   "metadata": {},
   "outputs": [
    {
     "name": "stdout",
     "output_type": "stream",
     "text": [
      "Input:\n",
      " b'Happ[UNK]Happy[UNK]Ne[UNK]Happy[UNK]New[UNK]Yea[UNK]That\\xe2\\x80\\x99s[UNK]one[UNK]small[UNK]ste[UNK]That\\xe2\\x80\\x99s[UNK]one[UNK]sm[UNK]That\\xe2\\x80\\x99[UNK]Th[UNK]one[UNK]giant[UNK]leap[UNK]for[UNK]mankin[UNK]on'\n",
      "\n",
      "Next Char Predictions:\n",
      " Ne[UNK]eonTrihwoahaginek’ll[UNK]rmy[UNK][UNK]tiwrkY’NerfHTwHrHsNeyiopo’mgYfrlTtTlrnYst’oNHwewnr’l’nreTfllo[UNK]Nfpnhwfp\n"
     ]
    }
   ],
   "source": [
    "print(\"Input:\\n\", text_from_ids(input_example_batch[0]).numpy())\n",
    "print()\n",
    "predictions = (text_from_ids(sampled_indices).numpy()).decode('utf-8')\n",
    "print(\"Next Char Predictions:\\n\", predictions)"
   ]
  },
  {
   "cell_type": "code",
   "execution_count": 127,
   "metadata": {},
   "outputs": [],
   "source": [
    "loss = tf.losses.SparseCategoricalCrossentropy(from_logits=True)"
   ]
  },
  {
   "cell_type": "code",
   "execution_count": 128,
   "metadata": {},
   "outputs": [
    {
     "name": "stdout",
     "output_type": "stream",
     "text": [
      "Prediction shape:  (1, 100, 24)  # (batch_size, sequence_length, vocab_size)\n",
      "Mean loss:         3.1775312\n"
     ]
    }
   ],
   "source": [
    "example_batch_loss = loss(target_example_batch, example_batch_predictions)\n",
    "mean_loss = example_batch_loss.numpy().mean()\n",
    "print(\"Prediction shape: \", example_batch_predictions.shape, \" # (batch_size, sequence_length, vocab_size)\")\n",
    "print(\"Mean loss:        \", mean_loss)"
   ]
  },
  {
   "cell_type": "code",
   "execution_count": 129,
   "metadata": {},
   "outputs": [
    {
     "data": {
      "text/plain": [
       "23.987461"
      ]
     },
     "execution_count": 129,
     "metadata": {},
     "output_type": "execute_result"
    }
   ],
   "source": [
    "tf.exp(mean_loss).numpy()"
   ]
  },
  {
   "cell_type": "code",
   "execution_count": 130,
   "metadata": {},
   "outputs": [],
   "source": [
    "model.compile(optimizer='adam', loss=loss)"
   ]
  },
  {
   "cell_type": "code",
   "execution_count": 131,
   "metadata": {},
   "outputs": [],
   "source": [
    "# Directory where the checkpoints will be saved\n",
    "checkpoint_dir = './training_checkpoints'\n",
    "# Name of the checkpoint files\n",
    "checkpoint_prefix = os.path.join(checkpoint_dir, \"ckpt_{epoch}\")\n",
    "\n",
    "checkpoint_callback = tf.keras.callbacks.ModelCheckpoint(\n",
    "    filepath=checkpoint_prefix,\n",
    "    save_weights_only=True)"
   ]
  },
  {
   "cell_type": "code",
   "execution_count": 132,
   "metadata": {},
   "outputs": [],
   "source": [
    "EPOCHS = 50"
   ]
  },
  {
   "cell_type": "code",
   "execution_count": 133,
   "metadata": {},
   "outputs": [
    {
     "name": "stdout",
     "output_type": "stream",
     "text": [
      "Epoch 1/50\n",
      "1/1 [==============================] - 6s 6s/step - loss: 3.1775\n",
      "Epoch 2/50\n",
      "1/1 [==============================] - 1s 1s/step - loss: 3.1244\n",
      "Epoch 3/50\n",
      "1/1 [==============================] - 1s 1s/step - loss: 3.0589\n",
      "Epoch 4/50\n",
      "1/1 [==============================] - 1s 1s/step - loss: 2.9366\n",
      "Epoch 5/50\n",
      "1/1 [==============================] - 1s 1s/step - loss: 4.0693\n",
      "Epoch 6/50\n",
      "1/1 [==============================] - 1s 1s/step - loss: 2.8458\n",
      "Epoch 7/50\n",
      "1/1 [==============================] - 1s 1s/step - loss: 2.9256\n",
      "Epoch 8/50\n",
      "1/1 [==============================] - 1s 1s/step - loss: 2.9520\n",
      "Epoch 9/50\n",
      "1/1 [==============================] - 1s 1s/step - loss: 2.9592\n",
      "Epoch 10/50\n",
      "1/1 [==============================] - 1s 1s/step - loss: 2.9571\n",
      "Epoch 11/50\n",
      "1/1 [==============================] - 1s 1s/step - loss: 2.9494\n",
      "Epoch 12/50\n",
      "1/1 [==============================] - 1s 1s/step - loss: 2.9376\n",
      "Epoch 13/50\n",
      "1/1 [==============================] - 1s 1s/step - loss: 2.9225\n",
      "Epoch 14/50\n",
      "1/1 [==============================] - 1s 1s/step - loss: 2.9045\n",
      "Epoch 15/50\n",
      "1/1 [==============================] - 1s 1s/step - loss: 2.8837\n",
      "Epoch 16/50\n",
      "1/1 [==============================] - 1s 1s/step - loss: 2.8598\n",
      "Epoch 17/50\n",
      "1/1 [==============================] - 1s 1s/step - loss: 2.8327\n",
      "Epoch 18/50\n",
      "1/1 [==============================] - 1s 1s/step - loss: 2.8020\n",
      "Epoch 19/50\n",
      "1/1 [==============================] - 1s 1s/step - loss: 2.7669\n",
      "Epoch 20/50\n",
      "1/1 [==============================] - 1s 1s/step - loss: 2.7266\n",
      "Epoch 21/50\n",
      "1/1 [==============================] - 1s 1s/step - loss: 2.6797\n",
      "Epoch 22/50\n",
      "1/1 [==============================] - 1s 1s/step - loss: 2.6241\n",
      "Epoch 23/50\n",
      "1/1 [==============================] - 1s 1s/step - loss: 2.5560\n",
      "Epoch 24/50\n",
      "1/1 [==============================] - 1s 1s/step - loss: 2.4696\n",
      "Epoch 25/50\n",
      "1/1 [==============================] - 1s 1s/step - loss: 2.3568\n",
      "Epoch 26/50\n",
      "1/1 [==============================] - 1s 1s/step - loss: 2.2551\n",
      "Epoch 27/50\n",
      "1/1 [==============================] - 1s 1s/step - loss: 2.2553\n",
      "Epoch 28/50\n",
      "1/1 [==============================] - 1s 1s/step - loss: 2.1908\n",
      "Epoch 29/50\n",
      "1/1 [==============================] - 1s 1s/step - loss: 2.0770\n",
      "Epoch 30/50\n",
      "1/1 [==============================] - 1s 1s/step - loss: 1.9918\n",
      "Epoch 31/50\n",
      "1/1 [==============================] - 1s 1s/step - loss: 1.9346\n",
      "Epoch 32/50\n",
      "1/1 [==============================] - 1s 1s/step - loss: 1.8780\n",
      "Epoch 33/50\n",
      "1/1 [==============================] - 1s 1s/step - loss: 1.8111\n",
      "Epoch 34/50\n",
      "1/1 [==============================] - 1s 1s/step - loss: 1.7316\n",
      "Epoch 35/50\n",
      "1/1 [==============================] - 1s 1s/step - loss: 1.6462\n",
      "Epoch 36/50\n",
      "1/1 [==============================] - 1s 1s/step - loss: 1.5642\n",
      "Epoch 37/50\n",
      "1/1 [==============================] - 1s 1s/step - loss: 1.4846\n",
      "Epoch 38/50\n",
      "1/1 [==============================] - 1s 1s/step - loss: 1.4021\n",
      "Epoch 39/50\n",
      "1/1 [==============================] - 1s 1s/step - loss: 1.3266\n",
      "Epoch 40/50\n",
      "1/1 [==============================] - 1s 1s/step - loss: 1.2680\n",
      "Epoch 41/50\n",
      "1/1 [==============================] - 1s 1s/step - loss: 1.1935\n",
      "Epoch 42/50\n",
      "1/1 [==============================] - 1s 1s/step - loss: 1.1288\n",
      "Epoch 43/50\n",
      "1/1 [==============================] - 1s 1s/step - loss: 1.0482\n",
      "Epoch 44/50\n",
      "1/1 [==============================] - 1s 1s/step - loss: 0.9885\n",
      "Epoch 45/50\n",
      "1/1 [==============================] - 1s 1s/step - loss: 0.9151\n",
      "Epoch 46/50\n",
      "1/1 [==============================] - 1s 1s/step - loss: 0.8656\n",
      "Epoch 47/50\n",
      "1/1 [==============================] - 1s 1s/step - loss: 0.8158\n",
      "Epoch 48/50\n",
      "1/1 [==============================] - 2s 2s/step - loss: 0.7718\n",
      "Epoch 49/50\n",
      "1/1 [==============================] - 1s 1s/step - loss: 0.7309\n",
      "Epoch 50/50\n",
      "1/1 [==============================] - 2s 2s/step - loss: 0.6827\n"
     ]
    }
   ],
   "source": [
    "history = model.fit(dataset, epochs=EPOCHS, callbacks=[checkpoint_callback])"
   ]
  },
  {
   "cell_type": "code",
   "execution_count": 134,
   "metadata": {},
   "outputs": [],
   "source": [
    "class OneStep(tf.keras.Model):\n",
    "  def __init__(self, model, chars_from_ids, ids_from_chars, temperature=1.0):\n",
    "    super().__init__()\n",
    "    self.temperature=temperature\n",
    "    self.model = model\n",
    "    self.chars_from_ids = chars_from_ids\n",
    "    self.ids_from_chars = ids_from_chars\n",
    "\n",
    "    # Create a mask to prevent \"\" or \"[UNK]\" from being generated.\n",
    "    skip_ids = self.ids_from_chars(['','[UNK]'])[:, None]\n",
    "    sparse_mask = tf.SparseTensor(\n",
    "        # Put a -inf at each bad index.\n",
    "        values=[-float('inf')]*len(skip_ids),\n",
    "        indices = skip_ids,\n",
    "        # Match the shape to the vocabulary\n",
    "        dense_shape=[len(ids_from_chars.get_vocabulary())]) \n",
    "    self.prediction_mask = tf.sparse.to_dense(sparse_mask)\n",
    "\n",
    "  @tf.function\n",
    "  def generate_one_step(self, inputs, states=None):\n",
    "    # Convert strings to token IDs.\n",
    "    input_chars = tf.strings.unicode_split(inputs, 'UTF-8')\n",
    "    input_ids = self.ids_from_chars(input_chars).to_tensor()\n",
    "\n",
    "    # Run the model.\n",
    "    # predicted_logits.shape is [batch, char, next_char_logits] \n",
    "    predicted_logits, states =  self.model(inputs=input_ids, states=states, \n",
    "                                          return_state=True)\n",
    "    # Only use the last prediction.\n",
    "    predicted_logits = predicted_logits[:, -1, :]\n",
    "    predicted_logits = predicted_logits/self.temperature\n",
    "    # Apply the prediction mask: prevent \"\" or \"[UNK]\" from being generated.\n",
    "    predicted_logits = predicted_logits + self.prediction_mask\n",
    "\n",
    "    # Sample the output logits to generate token IDs.\n",
    "    predicted_ids = tf.random.categorical(predicted_logits, num_samples=1)\n",
    "    predicted_ids = tf.squeeze(predicted_ids, axis=-1)\n",
    "\n",
    "    # Convert from token ids to characters\n",
    "    predicted_chars = self.chars_from_ids(predicted_ids)\n",
    "\n",
    "    # Return the characters and model state.\n",
    "    return predicted_chars, states"
   ]
  },
  {
   "cell_type": "code",
   "execution_count": 135,
   "metadata": {},
   "outputs": [],
   "source": [
    "one_step_model = OneStep(model, chars_from_ids, ids_from_chars)"
   ]
  },
  {
   "cell_type": "code",
   "execution_count": 161,
   "metadata": {},
   "outputs": [
    {
     "name": "stdout",
     "output_type": "stream",
     "text": [
      "1 tf.Tensor([b'e'], shape=(1,), dtype=string)\n",
      "2 tf.Tensor([b'w'], shape=(1,), dtype=string)\n",
      "3 tf.Tensor([b'f'], shape=(1,), dtype=string)\n",
      "\n",
      "\n",
      "one \n",
      "\n",
      "________________________________________________________________________________\n",
      "w \n",
      "\n",
      "________________________________________________________________________________\n",
      "f \n",
      "\n",
      "________________________________________________________________________________\n",
      "\n",
      "Run time: 0.00829315185546875\n"
     ]
    }
   ],
   "source": [
    "start = time.time()\n",
    "states = None\n",
    "next_char = tf.constant(['on'])\n",
    "result = [next_char]\n",
    "second_result = []\n",
    "third_result = []\n",
    "\n",
    "for n in range(1):\n",
    "  next_char, states = one_step_model.generate_one_step(next_char, states=states)\n",
    "  second_choice, states = one_step_model.generate_one_step(next_char, states=states)\n",
    "  third_choice, states = one_step_model.generate_one_step(next_char, states=states)\n",
    "  print('1', next_char)\n",
    "  print('2', second_choice)\n",
    "  print('3', third_choice)\n",
    "  print('\\n')\n",
    "  result.append(next_char)\n",
    "  second_result.append(second_choice)\n",
    "  third_result.append(third_choice)\n",
    "\n",
    "result = tf.strings.join(result)\n",
    "second_result = tf.strings.join(second_result)\n",
    "third_result = tf.strings.join(third_result)\n",
    "end = time.time()\n",
    "\n",
    "print(result[0].numpy().decode('utf-8'), '\\n\\n' + '_'*80)\n",
    "print(second_result[0].numpy().decode('utf-8'), '\\n\\n' + '_'*80)\n",
    "print(third_result[0].numpy().decode('utf-8'), '\\n\\n' + '_'*80)\n",
    "\n",
    "print(f\"\\nRun time: {end - start}\")"
   ]
  },
  {
   "cell_type": "code",
   "execution_count": null,
   "metadata": {},
   "outputs": [],
   "source": []
  },
  {
   "cell_type": "code",
   "execution_count": null,
   "metadata": {},
   "outputs": [],
   "source": []
  }
 ],
 "metadata": {
  "kernelspec": {
   "display_name": "Python 3",
   "language": "python",
   "name": "python3"
  },
  "language_info": {
   "codemirror_mode": {
    "name": "ipython",
    "version": 3
   },
   "file_extension": ".py",
   "mimetype": "text/x-python",
   "name": "python",
   "nbconvert_exporter": "python",
   "pygments_lexer": "ipython3",
   "version": "3.8.5"
  }
 },
 "nbformat": 4,
 "nbformat_minor": 4
}
